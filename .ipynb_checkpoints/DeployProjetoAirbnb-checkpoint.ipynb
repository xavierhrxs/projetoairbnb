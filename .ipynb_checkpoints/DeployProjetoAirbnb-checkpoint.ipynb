{
 "cells": [
  {
   "cell_type": "code",
   "execution_count": 12,
   "id": "e9ce1a8b",
   "metadata": {},
   "outputs": [],
   "source": [
    "import pandas as pd\n",
    "import streamlit as st\n",
    "import joblib\n",
    "\n",
    "# modelo = joblib.load('modelo.joblib')\n",
    "\n",
    "x_numericos = {'latitude': 0, 'longitude': 0, 'accommodates': 0, 'bathrooms': 0, 'bedrooms': 0, 'beds': 0, 'extra_people': 0,\n",
    "               'minimum_nights': 0, 'ano': 0, 'mes': 0, 'n_amenities': 0, 'host_listings_count': 0}\n",
    "\n",
    "x_tf = {'host_is_superhost': 0, 'instant_bookable': 0}\n",
    "\n",
    "x_listas = {'property_type': ['Apartment', 'Bed and breakfast', 'Condominium', 'Guest suite', 'Guesthouse', 'Hostel', 'House', 'Loft', 'Outros', 'Serviced apartment'],\n",
    "            'room_type': ['Entire home/apt', 'Hotel room', 'Private room', 'Shared room'],\n",
    "            'cancelation_policy': ['flexible', 'moderate', 'strict', 'strict_14_with_grace_period']}\n",
    "\n",
    "for item in x_numericos:\n",
    "    valor = st.number_input(f'{item}')\n",
    "\n",
    "for item in x_tf:\n",
    "    valor = st.selectbox(f'{item}', ('Sim', 'Não'))\n",
    "    \n",
    "for item in x_listas:\n",
    "    valor = st.selectbox(f'{item}', (x_listas[item]))\n",
    "    \n",
    "botao = st.button('Prever Valor do Imóvel')\n",
    "    "
   ]
  }
 ],
 "metadata": {
  "kernelspec": {
   "display_name": "Python 3 (ipykernel)",
   "language": "python",
   "name": "python3"
  },
  "language_info": {
   "codemirror_mode": {
    "name": "ipython",
    "version": 3
   },
   "file_extension": ".py",
   "mimetype": "text/x-python",
   "name": "python",
   "nbconvert_exporter": "python",
   "pygments_lexer": "ipython3",
   "version": "3.7.13"
  }
 },
 "nbformat": 4,
 "nbformat_minor": 5
}
