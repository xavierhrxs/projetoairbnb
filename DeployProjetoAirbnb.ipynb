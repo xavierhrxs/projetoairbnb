{
 "cells": [
  {
   "cell_type": "code",
   "execution_count": 15,
   "id": "e9ce1a8b",
   "metadata": {},
   "outputs": [],
   "source": [
    "import pandas as pd\n",
    "import streamlit as st\n",
    "import joblib\n",
    "\n",
    "# modelo = joblib.load('modelo.joblib')\n",
    "\n",
    "x_numericos = {'latitude': 0, 'longitude': 0, 'accommodates': 0, 'bathrooms': 0, 'bedrooms': 0, 'beds': 0, 'extra_people': 0,\n",
    "               'minimum_nights': 0, 'ano': 0, 'mes': 0, 'n_amenities': 0, 'host_listings_count': 0}\n",
    "\n",
    "x_tf = {'host_is_superhost': 0, 'instant_bookable': 0}\n",
    "\n",
    "x_listas = {'property_type': ['Apartment', 'Bed and breakfast', 'Condominium', 'Guest suite', 'Guesthouse', 'Hostel', 'House', 'Loft', 'Outros', 'Serviced apartment'],\n",
    "            'room_type': ['Entire home/apt', 'Hotel room', 'Private room', 'Shared room'],\n",
    "            'cancellation_policy': ['flexible', 'moderate', 'strict', 'strict_14_with_grace_period']}\n",
    "\n",
    "dicionario = {}\n",
    "\n",
    "for item in x_listas:\n",
    "    for valor in x_listas[item]:\n",
    "        dicionario[f'{item}_{valor}'] = 0\n",
    "\n",
    "\n",
    "for item in x_numericos:\n",
    "    if item == 'latitude' or item == 'longitude':\n",
    "        valor = st.number_input(f'{item}', step = 0.00001, value=0.0, format='%.5f')\n",
    "    else:\n",
    "        valor = st.number_input(f'{item}', step = 1, value=0)\n",
    "    x_numericos[item] = valor\n",
    "\n",
    "for item in x_tf:\n",
    "    valor = st.selectbox(f'{item}', ('Sim', 'Não'))\n",
    "    if valor == 'Sim':\n",
    "        x_tf[item] = 1\n",
    "    else:\n",
    "        x_tf[item] = 0\n",
    "    \n",
    "for item in x_listas:\n",
    "    valor = st.selectbox(f'{item}', (x_listas[item]))\n",
    "    dicionario['f{item}_{valor}'] = 1\n",
    "    \n",
    "botao = st.button('Prever Valor do Imóvel')\n",
    "\n",
    "if botao:\n",
    "    dicionario.update(x_numericos)\n",
    "    dicionario.update(x_tf)\n",
    "    valores_x = pd.DataFrame(dicionario, index=[0])\n",
    "    dados = pd.read_csv('dados.csv')\n",
    "    colunas = list(dados.columns)[1:-1]\n",
    "    valores_x = valores_x[colunas]\n",
    "    modelo = joblib.load('modelo.joblib')\n",
    "    preco = modelo.predict(valores_x)\n",
    "    st.write(preco[0])\n",
    "    "
   ]
  },
  {
   "cell_type": "code",
   "execution_count": null,
   "id": "f1be0d24",
   "metadata": {},
   "outputs": [],
   "source": []
  }
 ],
 "metadata": {
  "kernelspec": {
   "display_name": "Python 3 (ipykernel)",
   "language": "python",
   "name": "python3"
  },
  "language_info": {
   "codemirror_mode": {
    "name": "ipython",
    "version": 3
   },
   "file_extension": ".py",
   "mimetype": "text/x-python",
   "name": "python",
   "nbconvert_exporter": "python",
   "pygments_lexer": "ipython3",
   "version": "3.7.13"
  }
 },
 "nbformat": 4,
 "nbformat_minor": 5
}
